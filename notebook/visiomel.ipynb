{
 "cells": [
  {
   "cell_type": "code",
   "execution_count": 2,
   "id": "1fb0e13c-f8d9-44cc-ad54-b29afc2ca97c",
   "metadata": {
    "tags": []
   },
   "outputs": [],
   "source": [
    "import os\n",
    "import cv2\n",
    "import s3fs\n",
    "import pandas as pd\n",
    "import numpy as np\n",
    "from sklearn.utils import class_weight\n",
    "import tensorflow as tf\n",
    "from tensorflow.keras.applications.resnet50 import ResNet50, preprocess_input\n",
    "from tensorflow.keras.layers import Dense, Flatten, GlobalAveragePooling2D, Dropout\n",
    "from tensorflow.keras.models import Sequential, Model\n",
    "from tensorflow.keras.preprocessing.image import ImageDataGenerator, load_img, img_to_array\n",
    "from tensorflow.keras.optimizers import Adam\n",
    "from tensorflow.keras.callbacks import ModelCheckpoint, EarlyStopping"
   ]
  },
  {
   "cell_type": "code",
   "execution_count": 3,
   "id": "b1965e11-6da1-4989-af77-332ac61692f3",
   "metadata": {
    "tags": []
   },
   "outputs": [],
   "source": [
    "# Create filesystem object\n",
    "S3_ENDPOINT_URL = \"https://\" + os.environ[\"AWS_S3_ENDPOINT\"]\n",
    "fs = s3fs.S3FileSystem(client_kwargs={'endpoint_url': S3_ENDPOINT_URL})"
   ]
  },
  {
   "cell_type": "code",
   "execution_count": 4,
   "id": "04e929bc-b32d-409a-a1f9-0d71c235f446",
   "metadata": {
    "tags": []
   },
   "outputs": [
    {
     "data": {
      "text/plain": [
       "['jplaton/projet_ted', 'jplaton/visio_mel']"
      ]
     },
     "execution_count": 4,
     "metadata": {},
     "output_type": "execute_result"
    }
   ],
   "source": [
    "BUCKET = \"jplaton\"\n",
    "fs.ls(BUCKET)"
   ]
  },
  {
   "cell_type": "code",
   "execution_count": 6,
   "id": "6ece4bd5-0ed8-4fb0-bc1b-7cd8b0ff2c7d",
   "metadata": {
    "tags": []
   },
   "outputs": [],
   "source": [
    "FILE_PATH_TRAIN = \"visio_mel/train_labels.csv\"\n",
    "FILE_PATH_TRAIN_S3 = BUCKET + \"/\" + FILE_PATH_TRAIN\n",
    "\n",
    "with fs.open(FILE_PATH_TRAIN_S3, mode=\"rb\") as file_in:\n",
    "    train_labels = pd.read_csv(file_in, sep=\",\")"
   ]
  },
  {
   "cell_type": "code",
   "execution_count": 8,
   "id": "50a665d2-1646-40e5-ac69-2e7369877ebd",
   "metadata": {
    "tags": []
   },
   "outputs": [],
   "source": [
    "FILE_PATH_TRAIN = \"visio_mel/train_metadata.csv\"\n",
    "FILE_PATH_TRAIN_S3 = BUCKET + \"/\" + FILE_PATH_TRAIN\n",
    "\n",
    "with fs.open(FILE_PATH_TRAIN_S3, mode=\"rb\") as file_in:\n",
    "    train_metadata = pd.read_csv(file_in, sep=\",\")"
   ]
  }
 ],
 "metadata": {
  "kernelspec": {
   "display_name": "Python 3 (ipykernel)",
   "language": "python",
   "name": "python3"
  },
  "language_info": {
   "codemirror_mode": {
    "name": "ipython",
    "version": 3
   },
   "file_extension": ".py",
   "mimetype": "text/x-python",
   "name": "python",
   "nbconvert_exporter": "python",
   "pygments_lexer": "ipython3",
   "version": "3.10.9"
  }
 },
 "nbformat": 4,
 "nbformat_minor": 5
}
